{
 "cells": [
  {
   "cell_type": "code",
   "execution_count": 10,
   "metadata": {},
   "outputs": [],
   "source": [
    "from inspect import cleandoc\n",
    "\n",
    "# Read input from file: \n",
    "def readinput(textfile):\n",
    "    TEST = False\n",
    "    \n",
    "    if not TEST: \n",
    "        inputFile = open(\"./\" + textfile, \"r\")\n",
    "        data = inputFile.read()\n",
    "        inputFile.close()\n",
    "    else: \n",
    "        data = cleandoc(\"\"\"\n",
    "                            1000\n",
    "                            2000\n",
    "                            3000\n",
    "                            4000\n",
    "                            5000\n",
    "                            6000\n",
    "                            7000\n",
    "                            8000\n",
    "                            9000\n",
    "                            10000\n",
    "                        \"\"\")\n",
    "    \n",
    "    data = data.split(\"\\n\")\n",
    "    return data"
   ]
  },
  {
   "cell_type": "markdown",
   "metadata": {},
   "source": [
    "## Puzzle 1\n",
    "Find the Elf carrying the most Calories. How many total Calories is that Elf carrying?"
   ]
  },
  {
   "cell_type": "code",
   "execution_count": 15,
   "metadata": {},
   "outputs": [
    {
     "name": "stdout",
     "output_type": "stream",
     "text": [
      "Puzzle 1: 68923\n"
     ]
    }
   ],
   "source": [
    "cals_per_elf = []\n",
    "i = 0\n",
    "total_cals = 0\n",
    "\n",
    "data = readinput(\"input-day1.txt\")\n",
    "\n",
    "while i < len(data):\n",
    "    total_cals += int(data[i])\n",
    "    i += 1\n",
    "    if i >= len(data): \n",
    "        cals_per_elf.append(total_cals)\n",
    "        break\n",
    "    if data[i] == \"\":\n",
    "        cals_per_elf.append(total_cals)\n",
    "        total_cals = 0\n",
    "        i += 1\n",
    "\n",
    "print(\"Puzzle 1:\", max(cals_per_elf))"
   ]
  },
  {
   "cell_type": "markdown",
   "metadata": {},
   "source": [
    "## Puzzle 2\n",
    "Find the top three Elves carrying the most Calories. How many Calories are those Elves carrying in total?"
   ]
  },
  {
   "cell_type": "code",
   "execution_count": 19,
   "metadata": {},
   "outputs": [
    {
     "name": "stdout",
     "output_type": "stream",
     "text": [
      "Puzzle 2: 200044\n"
     ]
    }
   ],
   "source": [
    "cals_per_elf.sort(reverse=True)\n",
    "sum = cals_per_elf[0] + cals_per_elf[1] + cals_per_elf[2]\n",
    "print(\"Puzzle 2:\", sum)"
   ]
  }
 ],
 "metadata": {
  "kernelspec": {
   "display_name": "Python 3",
   "language": "python",
   "name": "python3"
  },
  "language_info": {
   "codemirror_mode": {
    "name": "ipython",
    "version": 3
   },
   "file_extension": ".py",
   "mimetype": "text/x-python",
   "name": "python",
   "nbconvert_exporter": "python",
   "pygments_lexer": "ipython3",
   "version": "3.8.5"
  }
 },
 "nbformat": 4,
 "nbformat_minor": 4
}
