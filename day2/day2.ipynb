{
 "cells": [
  {
   "cell_type": "code",
   "execution_count": 16,
   "metadata": {},
   "outputs": [],
   "source": [
    "TEST = False\n",
    "INPUTFILE = \"./input-day2.txt\""
   ]
  },
  {
   "cell_type": "code",
   "execution_count": 20,
   "metadata": {},
   "outputs": [],
   "source": [
    "from inspect import cleandoc\n",
    "\n",
    "# Read input from file: \n",
    "def readinput(textfile):\n",
    "    if not TEST: \n",
    "        inputFile = open(textfile, \"r\")\n",
    "        data = inputFile.read()\n",
    "        inputFile.close()\n",
    "    else: \n",
    "        data = cleandoc(\"\"\"\n",
    "                            A Y\n",
    "                            B X\n",
    "                            C Z\n",
    "                        \"\"\")\n",
    "    \n",
    "    data = data.splitlines()\n",
    "    return data"
   ]
  },
  {
   "cell_type": "code",
   "execution_count": 4,
   "metadata": {},
   "outputs": [],
   "source": [
    "# A/X = Rock (1)\n",
    "# B/Y = Paper (2)\n",
    "# C/Z = Scissors (3)\n",
    "\n",
    "# ABC OPPONENT, XYZ YOUR MOVE\n",
    "# Round scores: \n",
    "# Win (6)\n",
    "# Draw (3)\n",
    "# Lost (0)"
   ]
  },
  {
   "cell_type": "markdown",
   "metadata": {},
   "source": [
    "## Puzzle 1\n",
    "What would your total score be if everything goes exactly according to your strategy guide?"
   ]
  },
  {
   "cell_type": "code",
   "execution_count": 24,
   "metadata": {},
   "outputs": [
    {
     "name": "stdout",
     "output_type": "stream",
     "text": [
      "Puzzle 1: 13924\n"
     ]
    }
   ],
   "source": [
    "t = 0\n",
    "data = readinput(INPUTFILE)\n",
    "\n",
    "for line in data:\n",
    "    x, y = line.split()\n",
    "    \n",
    "    x = ord(x) - 65\n",
    "    y = ord(y) - ord(\"X\")\n",
    "    \n",
    "    if x == y:\n",
    "        t += 3\n",
    "    elif (y - x) % 3 == 1: \n",
    "        t += 6\n",
    "    \n",
    "    t += y + 1\n",
    "\n",
    "print(\"Puzzle 1:\", t)"
   ]
  },
  {
   "cell_type": "markdown",
   "metadata": {},
   "source": [
    "## Puzzle 2\n",
    "Following the Elf's instructions for the second column, what would your total score be if everything goes exactly according to your strategy guide?"
   ]
  },
  {
   "cell_type": "code",
   "execution_count": null,
   "metadata": {},
   "outputs": [],
   "source": [
    "t = 0\n",
    "\n",
    "for line in data: \n",
    "    x, y = line.split()\n",
    "    \n",
    "    x = ord(x -)"
   ]
  }
 ],
 "metadata": {
  "kernelspec": {
   "display_name": "Python 3",
   "language": "python",
   "name": "python3"
  },
  "language_info": {
   "codemirror_mode": {
    "name": "ipython",
    "version": 3
   },
   "file_extension": ".py",
   "mimetype": "text/x-python",
   "name": "python",
   "nbconvert_exporter": "python",
   "pygments_lexer": "ipython3",
   "version": "3.8.5"
  }
 },
 "nbformat": 4,
 "nbformat_minor": 4
}
