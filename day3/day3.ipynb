{
 "cells": [
  {
   "cell_type": "code",
   "execution_count": 16,
   "metadata": {},
   "outputs": [],
   "source": [
    "TEST = False\n",
    "INPUTFILE = \"./input-day3.txt\""
   ]
  },
  {
   "cell_type": "code",
   "execution_count": 4,
   "metadata": {},
   "outputs": [],
   "source": [
    "from inspect import cleandoc\n",
    "\n",
    "# Read input from file: \n",
    "def readinput(textfile):\n",
    "    if not TEST: \n",
    "        inputFile = open(textfile, \"r\")\n",
    "        data = inputFile.read()\n",
    "        inputFile.close()\n",
    "    else: \n",
    "        data = cleandoc(\"\"\"\n",
    "                            vJrwpWtwJgWrhcsFMMfFFhFp\n",
    "                            jqHRNqRjqzjGDLGLrsFMfFZSrLrFZsSL\n",
    "                            PmmdzqPrVvPwwTWBwg\n",
    "                            wMqvLMZHhHMvwLHjbvcjnnSBnvTQFn\n",
    "                            ttgJtRGJQctTZtZT\n",
    "                            CrZsJsPPZsGzwwsLwLmpwMDw\n",
    "                        \"\"\")\n",
    "    \n",
    "    data = data.splitlines()\n",
    "    return data"
   ]
  },
  {
   "cell_type": "markdown",
   "metadata": {},
   "source": [
    "## Puzzle 1\n",
    "Every item is identified by a single lowercase or uppercase letter (a and A are two different types of items)\n",
    "A rucksack always has the same number of items in each of its two cmopartments.\n",
    "a-z have priority 1 to 26, A - Z have priority 27 - 52.\n",
    "\n",
    "Find the item type that appears in both compartments of each rucksack. What is the sum of the priorities of those item types?"
   ]
  },
  {
   "cell_type": "code",
   "execution_count": 9,
   "metadata": {},
   "outputs": [
    {
     "name": "stdout",
     "output_type": "stream",
     "text": [
      "Puzzle 1: 8298\n"
     ]
    }
   ],
   "source": [
    "data = readinput(INPUTFILE)\n",
    "t = 0\n",
    "\n",
    "for line in data: \n",
    "    x = len(line) // 2\n",
    "    a = line[:x]\n",
    "    b = line[x:]\n",
    "    k, = set(a) & set(b)\n",
    "    if k >= \"a\": \n",
    "        t += ord(k) - ord(\"a\") + 1\n",
    "    else:\n",
    "        t += ord(k) - ord(\"A\") + 27\n",
    "        \n",
    "print(\"Puzzle 1:\", t)"
   ]
  },
  {
   "cell_type": "markdown",
   "metadata": {},
   "source": [
    "## Puzzle 2\n",
    "The badge is the only item type carried by all three Elves. Groups of three.\n",
    "Find the item type that corresponds to the badges of each three-Elf group. What is the sum of the priorities of those item types?"
   ]
  },
  {
   "cell_type": "code",
   "execution_count": 17,
   "metadata": {},
   "outputs": [
    {
     "name": "stdout",
     "output_type": "stream",
     "text": [
      "Puzzle 2: 2708\n"
     ]
    }
   ],
   "source": [
    "data = readinput(INPUTFILE)\n",
    "t = 0\n",
    "\n",
    "for x, y, z in zip(*[iter(data)]*3):\n",
    "    k, = set(x) & set(y) & set(z)\n",
    "    if k >= \"a\": \n",
    "        t += ord(k) - ord(\"a\") + 1\n",
    "    else: \n",
    "        t += ord(k) - ord(\"A\") + 27\n",
    "\n",
    "print(\"Puzzle 2:\", t)"
   ]
  }
 ],
 "metadata": {
  "kernelspec": {
   "display_name": "Python 3",
   "language": "python",
   "name": "python3"
  },
  "language_info": {
   "codemirror_mode": {
    "name": "ipython",
    "version": 3
   },
   "file_extension": ".py",
   "mimetype": "text/x-python",
   "name": "python",
   "nbconvert_exporter": "python",
   "pygments_lexer": "ipython3",
   "version": "3.8.5"
  }
 },
 "nbformat": 4,
 "nbformat_minor": 4
}
